{
 "cells": [
  {
   "cell_type": "code",
   "execution_count": null,
   "id": "9f9311af",
   "metadata": {},
   "outputs": [],
   "source": [
    "from collections.abc import Iterator\n",
    "\n",
    "import equinox as eqx\n",
    "import jax\n",
    "import jax.numpy as jnp\n",
    "import matplotlib.pyplot as plt\n",
    "import optax\n",
    "from jaxtyping import Array, Float, PRNGKeyArray\n",
    "\n",
    "from differt2d.geometry import Point, path_length\n",
    "from differt2d.models.cost20120 import Model\n",
    "from differt2d.scene import Scene"
   ]
  },
  {
   "cell_type": "code",
   "execution_count": null,
   "id": "ba065097-559e-49bf-ba45-e1b786af4f7b",
   "metadata": {},
   "outputs": [],
   "source": [
    "ax = plt.gca()\n",
    "scene = Scene.square_scene_with_obstacle()\n",
    "scene.plot(ax)\n",
    "\n",
    "for _, _, path, _ in scene.all_valid_paths(approx=False):\n",
    "    path.plot(ax)\n",
    "\n",
    "plt.show()"
   ]
  },
  {
   "cell_type": "code",
   "execution_count": null,
   "id": "12c60a29",
   "metadata": {},
   "outputs": [],
   "source": [
    "key = jax.random.PRNGKey(12345)\n",
    "key, key_example = jax.random.split(key, 2)\n",
    "\n",
    "\n",
    "def random_scenes(\n",
    "    key: PRNGKeyArray,\n",
    ") -> Iterator[tuple[Scene, Float[Array, \"2+num_walls*2 2\"]]]:\n",
    "    while True:\n",
    "        key, key_ratio, key_tx_rx, key_num_walls, key_walls = jax.random.split(key, 5)\n",
    "        ratio = jax.random.uniform(key_ratio)\n",
    "        points = jax.random.uniform(key_tx_rx, (2, 2))\n",
    "        tx = Point(point=points[0, :])\n",
    "        rx = Point(point=points[1, :])\n",
    "        scene = Scene.square_scene_with_obstacle(ratio=ratio)\n",
    "        indices = jnp.arange(len(scene.objects), dtype=jnp.uint32)\n",
    "        num_walls = jax.random.randint(\n",
    "            key_num_walls, (), minval=0, maxval=len(scene.objects) + 1\n",
    "        )\n",
    "        wall_indices = jax.random.choice(\n",
    "            key_walls, indices, shape=(num_walls,), replace=False\n",
    "        )\n",
    "        objects = [scene.objects[wall_index] for wall_index in wall_indices]\n",
    "\n",
    "        points = jnp.vstack([points, *[obj.points for obj in objects]])\n",
    "\n",
    "        yield (\n",
    "            scene.with_transmitters(tx=tx).with_receivers(rx=rx).with_objects(*objects),\n",
    "            points,\n",
    "        )\n",
    "\n",
    "\n",
    "def samples(\n",
    "    key: PRNGKeyArray, order: int = 1\n",
    ") -> Iterator[\n",
    "    tuple[Float[Array, \"2+num_walls*2 2\"], Float[Array, \"num_paths {order}+2 2\"]]\n",
    "]:\n",
    "    for scene, points in random_scenes(key):\n",
    "        paths = [\n",
    "            path.points\n",
    "            for _, _, path, _ in scene.all_valid_paths(\n",
    "                min_order=order, max_order=order, approx=False\n",
    "            )\n",
    "        ]\n",
    "\n",
    "        if len(paths) > 0:\n",
    "            y = jnp.stack(paths)\n",
    "        else:\n",
    "            y = jnp.zeros((0, order + 2, 2))\n",
    "\n",
    "        yield points, y\n",
    "\n",
    "\n",
    "scenes = random_scenes(key_example)"
   ]
  },
  {
   "cell_type": "code",
   "execution_count": null,
   "id": "5eabdeb5-1f97-4745-b4db-bdb17205e7b5",
   "metadata": {},
   "outputs": [],
   "source": [
    "ax = plt.gca()\n",
    "scene, _ = next(scenes)\n",
    "scene.plot(ax)\n",
    "\n",
    "for _, _, path, _ in scene.all_valid_paths(approx=False):\n",
    "    path.plot(ax)\n",
    "\n",
    "plt.show()"
   ]
  },
  {
   "cell_type": "code",
   "execution_count": null,
   "id": "ac336913-6a59-4eda-9ddc-621fc12b9a37",
   "metadata": {},
   "outputs": [],
   "source": [
    "key_model, key_train, key_test = jax.random.split(key, 3)\n",
    "train_samples = samples(key_train)\n",
    "test_samples = samples(key_test)"
   ]
  },
  {
   "cell_type": "code",
   "execution_count": null,
   "id": "e2cc34f8-6e3d-4cfb-b2ec-3cae9c2184af",
   "metadata": {},
   "outputs": [],
   "source": [
    "next(train_samples)"
   ]
  },
  {
   "cell_type": "code",
   "execution_count": null,
   "id": "7be7b365-8559-4413-8485-a6126cebee45",
   "metadata": {},
   "outputs": [],
   "source": [
    "def loss(\n",
    "    model: Model,\n",
    "    x: Float[Array, \"2+num_walls*2 2\"],\n",
    "    y_true: Float[Array, \"num_paths order+2 2\"],\n",
    ") -> Float[Array, \" \"]:\n",
    "    y_pred = model(x)\n",
    "\n",
    "    # sort-by length (ascending)\n",
    "\n",
    "    paths_length_true = jax.vmap(path_length)(y_true)\n",
    "    y_true = y_true[jnp.argsort(paths_length_true), ...]\n",
    "\n",
    "    paths_length_pred = jax.vmap(path_length)(y_pred)\n",
    "    y_pred = y_pred[jnp.argsort(paths_length_pred), ...]\n",
    "\n",
    "    # check the number of paths\n",
    "\n",
    "    num_paths_pred = y_pred.shape[0]\n",
    "    num_paths_true = y_true.shape[0]\n",
    "\n",
    "    if num_paths_pred < num_paths_true:\n",
    "        penalty = jnp.sum(1 / jax.vmap(path_length)(y_true[num_paths_pred:, ...]))\n",
    "        y_true = y_true[:num_paths_pred, ...]\n",
    "    elif num_paths_pred > num_paths_true:\n",
    "        penalty = jnp.sum(1 / jax.vmap(path_length)(y_pred[num_paths_true:, ...]))\n",
    "        y_pred = y_[:num_paths_true, ...]\n",
    "    else:\n",
    "        penalty = 0.0\n",
    "\n",
    "    # the longer the path, the less important\n",
    "\n",
    "    weights = 1 / jax.vmap(path_length)(y_true)\n",
    "\n",
    "    differences = (y_true - y_pred).sum(axis=(1, 2)) ** 2\n",
    "\n",
    "    return (weights * differences).sum() + penalty"
   ]
  },
  {
   "cell_type": "code",
   "execution_count": null,
   "id": "6bf67f8a-b55a-4449-bdce-6a1fd6bf25fb",
   "metadata": {},
   "outputs": [],
   "source": [
    "model = Model(key=key_model)\n",
    "optim = optax.adam(learning_rate=1e-3)"
   ]
  },
  {
   "cell_type": "code",
   "execution_count": null,
   "id": "0b7cb03a-b637-4fc5-bd98-129c48844f7f",
   "metadata": {},
   "outputs": [],
   "source": [
    "loss(model, *next(train_samples))"
   ]
  },
  {
   "cell_type": "code",
   "execution_count": null,
   "id": "8a1fc269-5659-4e26-aac6-a631bdef9524",
   "metadata": {},
   "outputs": [],
   "source": [
    "eqx.tree_pprint(model)"
   ]
  },
  {
   "cell_type": "code",
   "execution_count": null,
   "id": "930a3ef7-345b-4e47-993e-64944701a597",
   "metadata": {},
   "outputs": [],
   "source": [
    "def train(\n",
    "    model: Model,\n",
    "    train_samples: Iterator,\n",
    "    test_samples: Iterator,\n",
    "    optim: optax.GradientTransformation,\n",
    "    steps: int = 10_000,\n",
    "    print_every: int = 1_000,\n",
    "    num_test_samples: int = 100,\n",
    "):\n",
    "    opt_state = optim.init(eqx.filter(model, eqx.is_array))\n",
    "\n",
    "    @eqx.filter_jit\n",
    "    def make_step(\n",
    "        model,\n",
    "        opt_state,\n",
    "        x,\n",
    "        y,\n",
    "    ):\n",
    "        loss_value, grads = eqx.filter_value_and_grad(loss)(model, x, y)\n",
    "        updates, opt_state = optim.update(grads, opt_state, model)\n",
    "        model = eqx.apply_updates(model, updates)\n",
    "        return model, opt_state, loss_value\n",
    "\n",
    "    with trange(steps, desc=\"\", unit=\" steps\", leave=False) as bar:\n",
    "        for step, (x_train, y_train) in zip(bar, train_samples, strict=False):\n",
    "            model, opt_state, train_loss = make_step(model, opt_state, x_train, y_train)\n",
    "            if (step % print_every) == 0 or (step == steps - 1):\n",
    "                test_loss = 0\n",
    "                for _, (x_test, y_test) in zip(\n",
    "                    range(num_test_samples), test_samples, strict=False\n",
    "                ):\n",
    "                    test_loss += loss(model, x_test, y_test)\n",
    "                test_loss /= num_test_samples\n",
    "\n",
    "                bar.set_description(\n",
    "                    f\"train_loss = {float(train_loss):.1f}, test_loss = {float(test_loss):.1f}\"\n",
    "                )\n",
    "\n",
    "    return model"
   ]
  }
 ],
 "metadata": {
  "kernelspec": {
   "display_name": "Python 3 (ipykernel)",
   "language": "python",
   "name": "python3"
  },
  "language_info": {
   "codemirror_mode": {
    "name": "ipython",
    "version": 3
   },
   "file_extension": ".py",
   "mimetype": "text/x-python",
   "name": "python",
   "nbconvert_exporter": "python",
   "pygments_lexer": "ipython3",
   "version": "3.9.19"
  }
 },
 "nbformat": 4,
 "nbformat_minor": 5
}
