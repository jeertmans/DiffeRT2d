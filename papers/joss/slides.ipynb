{
 "cells": [
  {
   "cell_type": "markdown",
   "id": "7e3bc89d-919b-4840-a1f4-6d7bb141d8dc",
   "metadata": {
    "editable": true,
    "slideshow": {
     "slide_type": "slide"
    },
    "tags": []
   },
   "source": [
    "![DiffeRT2d Logo](logo.png){ width=\"30%\" }\n",
    "\n",
    "\n",
    "# DiffeRT2d - DiffeRT2d: A Differentiable Ray Tracing Python Framework for Radio Propagation\n",
    "\n",
    "Jérome Eertmans"
   ]
  },
  {
   "cell_type": "markdown",
   "id": "d764379c-2773-45ec-80b9-3ff9953e5b88",
   "metadata": {
    "editable": true,
    "slideshow": {
     "slide_type": ""
    },
    "tags": []
   },
   "source": [
    "![Demo with Qt interface](demo.gif)"
   ]
  },
  {
   "cell_type": "code",
   "execution_count": null,
   "id": "35c13da3-3f7c-4ecc-a933-8f858601ed28",
   "metadata": {
    "editable": true,
    "slideshow": {
     "slide_type": ""
    },
    "tags": []
   },
   "outputs": [],
   "source": []
  }
 ],
 "metadata": {
  "kernelspec": {
   "display_name": "Python 3 (ipykernel)",
   "language": "python",
   "name": "python3"
  },
  "language_info": {
   "codemirror_mode": {
    "name": "ipython",
    "version": 3
   },
   "file_extension": ".py",
   "mimetype": "text/x-python",
   "name": "python",
   "nbconvert_exporter": "python",
   "pygments_lexer": "ipython3",
   "version": "3.11.8"
  }
 },
 "nbformat": 4,
 "nbformat_minor": 5
}
